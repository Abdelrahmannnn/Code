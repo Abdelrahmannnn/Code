{
  "nbformat": 4,
  "nbformat_minor": 0,
  "metadata": {
    "colab": {
      "name": "Untitled21.ipynb",
      "provenance": [],
      "collapsed_sections": [],
      "toc_visible": true
    },
    "kernelspec": {
      "name": "python3",
      "display_name": "Python 3"
    },
    "language_info": {
      "name": "python"
    }
  },
  "cells": [
    {
      "cell_type": "code",
      "execution_count": 122,
      "metadata": {
        "id": "faEo1PNW5WDZ"
      },
      "outputs": [],
      "source": [
        "\n",
        "\n",
        "#First the file of chipertexts that its link is given in the assignment should be uploaded here in colab \n",
        "\n",
        "with open('Asg2_ciphertexts') as file:\n",
        "    lines = [line.rstrip() for line in file]\n",
        "\n",
        "\n",
        "# Here I splitted every line and put every 2 hexa digits (1 byte) as an element in 2D array\n",
        "arr=[]\n",
        "for i in range(len(lines)) :\n",
        "  line = lines[i]\n",
        "  list=[]\n",
        "  for j in range(0,len(line),2) :\n",
        "     list.append(line[j:j+2])\n",
        "  arr.append(list)  \n",
        "\n",
        "\n"
      ]
    },
    {
      "cell_type": "code",
      "source": [
        "def Check(arr,possiblei,possiblej):\n",
        "    count =0 \n",
        "    for i in range(len(arr)):\n",
        "      if i != possiblei  :\n",
        "        h1=int(arr[possiblei][possiblej],16)\n",
        "        h2=int(arr[i][possiblej],16)\n",
        "        r= h1 ^ h2\n",
        "        # Check if 7th bit of result is 1 as if it is 1 this means that 1 of the bytes is space but I need to know which byte \n",
        "        if r & (1 << (6)):\n",
        "          count =count +1\n",
        "    \n",
        "    return count"
      ],
      "metadata": {
        "id": "B3NoBY8-CIGp"
      },
      "execution_count": 123,
      "outputs": []
    },
    {
      "cell_type": "code",
      "source": [
        "\n",
        "import numpy as np \n",
        "\n",
        "\n",
        "\n",
        "a = [[0]*len(arr[i])]*len(arr)\n",
        "A=np.array(a)\n",
        "\n",
        "for j in range(len(arr[i])):\n",
        "\n",
        "  for i in range(len(arr)-1):\n",
        "\n",
        "    h1=int(arr[i][j],16)\n",
        "    h2=int(arr[i+1][j],16)\n",
        "    res= h1 ^ h2\n",
        "\n",
        "        # We know that the xor of two sentences as ciphertexts equal the xor of the same two sentences as plaintexts \n",
        "        # So we calculate xor between each byte of ciphertext and its corresponding byte in the subsequent ciphertext and check if 7th bit of result is 1 as if it is 1 this means that 1 of the bytes is space but I need to know which byte is the space between \n",
        "        # one of the two bytes is a space as we know that the ASCI code of a space is 32 in decimal or 20 in hex (This means that it has 1 only in 6th bit of its representation in binary)\n",
        "        # And we know from the table of ASCI in binary for English letters that they all have 1 in the 7th bit so we are sure that the xor of space with any other letter\n",
        "        # will have 1 in the 7th bit  but to know which one of the two bytes is the space we call function Check and calculate xor between each one of the suspected bytes and every other\n",
        "        #  corresponding byte So this is the approach to identify spaces\n",
        " \n",
        "    if res & (1 << (6)):\n",
        "      r1=Check(arr,i,j)\n",
        "         \n",
        "      r2=Check(arr,i+1,j)\n",
        "\n",
        "      if (r1>r2):\n",
        "        position = [int(len(arr[i]) * i + j)] \n",
        "        np.put(A, position, 1)\n",
        "      \n",
        "      if (r1<r2):\n",
        "        position = [int(len(arr[i]) * (i+1) + j)] \n",
        "        np.put(A, position, 1)\n",
        "\n",
        "\n",
        "\n",
        "\n",
        "# A is an array that describes the position of spaces as if the value is 1 this means that this byte is a space\n",
        "print(A)\n",
        "\n"
      ],
      "metadata": {
        "colab": {
          "base_uri": "https://localhost:8080/"
        },
        "id": "ASKWcd-FSHt9",
        "outputId": "ce45bbde-ab2f-4270-e27c-c18d77b6baf5"
      },
      "execution_count": 124,
      "outputs": [
        {
          "output_type": "stream",
          "name": "stdout",
          "text": [
            "[[0 0 0 0 0 0 0 0 1 0 0 0 1 0 0 1 0 0 0 0 0 1 0 0 0 0 0 0 1 0 0 0 0 0 0 0\n",
            "  0 1 0 0 1 0 1 0 0 0 0 0 0 0 0 0 1 0 0 0 0 0]\n",
            " [0 0 0 0 0 0 1 0 0 0 1 0 0 0 0 0 0 0 0 0 0 0 1 0 0 0 0 0 0 1 0 0 0 1 0 0\n",
            "  0 0 0 0 0 0 0 1 0 0 0 1 0 0 0 0 0 0 0 0 0 0]\n",
            " [0 0 0 0 0 0 0 0 1 0 0 1 0 0 0 1 0 0 0 0 0 0 0 1 0 0 1 0 0 0 0 0 0 0 0 0\n",
            "  1 0 0 0 0 0 1 0 0 0 0 0 0 0 0 0 0 0 0 0 0 0]\n",
            " [0 0 0 0 0 0 1 0 0 0 0 0 0 0 0 0 0 0 0 0 0 0 0 0 0 0 0 0 1 0 0 0 0 0 0 0\n",
            "  1 0 0 0 1 0 0 0 0 0 0 0 0 0 0 0 0 0 0 0 0 0]\n",
            " [0 0 0 0 0 0 0 1 0 0 0 0 0 0 0 0 0 0 0 0 0 1 0 0 0 0 0 1 0 0 0 0 0 0 0 1\n",
            "  0 0 0 0 0 0 0 0 0 1 0 0 0 0 1 0 0 0 0 0 0 0]\n",
            " [0 0 1 0 0 1 0 0 0 1 0 0 0 0 0 0 0 0 0 0 0 0 1 0 0 0 0 1 0 0 0 0 0 0 1 0\n",
            "  0 1 0 0 0 0 0 0 0 0 0 1 0 0 0 0 0 0 0 0 0 0]\n",
            " [0 1 0 0 0 0 0 1 0 0 0 0 0 1 0 0 0 0 0 0 0 0 0 1 0 0 0 0 1 0 0 0 0 0 0 0\n",
            "  0 1 0 0 1 0 0 0 0 0 0 0 0 0 0 0 0 0 0 0 0 0]\n",
            " [0 0 0 1 0 0 0 0 1 0 0 0 0 0 0 1 0 0 0 0 0 0 0 0 0 1 0 0 0 0 0 0 0 0 0 1\n",
            "  0 0 0 0 0 0 0 0 0 0 1 0 0 0 0 0 0 0 0 0 0 0]]\n"
          ]
        }
      ]
    },
    {
      "cell_type": "code",
      "source": [
        ""
      ],
      "metadata": {
        "id": "nOVxN1RR8b64"
      },
      "execution_count": null,
      "outputs": []
    },
    {
      "cell_type": "code",
      "source": [
        "def getplain(keyj,posj):\n",
        "    \n",
        "    for i in range(len(arr)):\n",
        "      if A[i][posj] != 1  :\n",
        "        c=int(ch[i][posj],16)\n",
        "        p= keyj ^ c\n",
        "        position = [int(len(arr[i]) * (i) + posj)] \n",
        "        np.put(ch, position,chr(p))\n",
        "      else :\n",
        "        position = [int(len(arr[i]) * (i) + posj)] \n",
        "        np.put(ch, position,' ')"
      ],
      "metadata": {
        "id": "JBRZa0tYCFTB"
      },
      "execution_count": 125,
      "outputs": []
    },
    {
      "cell_type": "code",
      "source": [
        "# A[i][j] = 1 means that  byte j in ciphertext i is a space ,So we use this information to get a byte j of the key by Xor this byte of space with the\n",
        "# plaintext of the space which we know that is equal 32 in decimal or 20 in hexa \n",
        "# Then we use this byte of key to get the plaintext byte j of every ciphertext by Xor this byte j of key with ciphertext byte j of every ciphertext \n",
        "# Then we get array ch which I could identify some letters in it using spaces but the rest bytes need to be guessed that are left as hexa digits\n",
        "\n",
        "\n",
        "\n",
        "ch = np.array(arr)\n",
        "for j in range(len(arr[i])):\n",
        "\n",
        "  for i in range(len(arr)-1):\n",
        "      if(A[i][j]==1):\n",
        "       p=int(arr[i][j],16) \n",
        "       keyj= p ^ 32\n",
        "       getplain(keyj,j)\n",
        "       break\n",
        "\n",
        "print(ch)\n",
        "\n",
        "\n"
      ],
      "metadata": {
        "colab": {
          "base_uri": "https://localhost:8080/"
        },
        "id": "km6gRJIQ8eCG",
        "outputId": "b5e58768-3328-4978-c139-c97d17cd0e4c"
      },
      "execution_count": 126,
      "outputs": [
        {
          "output_type": "stream",
          "name": "stdout",
          "text": [
            "[['70' 'e' 'a' 'BD' '7E' 'i' 'n' 'g' ' ' 'h' 'o' 'w' ' ' 't' '46' ' '\n",
            "  '1B' '22' '74' '96' '92' ' ' 's' 'e' 'FA' '99' 'r' 'e' ' ' 's' '65'\n",
            "  '4F' '43' 'w' 'a' 'r' 'e' ' ' '1E' '3E' ' ' '77' ' ' 'n' '0A' 'c' '90'\n",
            "  's' '8B' 'D7' 'r' '9E' ' ' '10' '7D' '8B' '0E' 'AC']\n",
            " ['6F' 'e' 'c' 'BA' '62' 'e' ' ' 'k' 'e' 'y' ' ' 'e' 'x' 'c' '41' 'a'\n",
            "  '02' '37' '78' 'C2' '9E' 's' ' ' 'n' 'FC' '89' 'd' 'e' 'd' ' ' '6C'\n",
            "  '46' '45' ' ' 's' 'y' 'm' 'm' '12' '39' 'r' '7F' 'c' ' ' '04' 'e' '8C'\n",
            "  ' ' '9D' 'D8' 'c' '95' 'y' '13' '62' '8B' '0D' 'AE']\n",
            " ['6F' 'e' 'c' 'BA' '62' 'i' 't' 'y' ' ' 'a' 't' ' ' 't' 'h' '4C' ' '\n",
            "  '09' '28' '6D' '87' '99' 's' 'e' ' ' 'F6' '8A' ' ' 'u' 's' 'a' '68'\n",
            "  '40' '5B' 'i' 't' 'y' ' ' 'c' '18' '38' 'l' '72' ' ' 'd' '0E' 'm' '94'\n",
            "  'g' '9D' '96' 's' '82' 'c' '16' '64' '8B' '16' 'B9']\n",
            " ['71' 'o' 'd' 'AA' '62' 'n' ' ' 'c' 'r' 'y' 'p' 't' 'o' 'g' '5B' 'a'\n",
            "  '1C' '38' '64' 'C2' '85' 'e' 'q' 'u' 'F0' '9E' 'e' 's' ' ' 'c' '6B'\n",
            "  '5B' '52' 'f' 'u' 'l' ' ' 'a' '19' '29' ' ' '64' 'i' 'g' '00' 'r' '9A'\n",
            "  'u' '8B' '96' 'a' '89' 'a' '0F' '6F' '91' '0B' 'B3']\n",
            " ['7D' 'd' 'd' 'BD' '75' 's' 's' ' ' 'r' 'a' 'n' 'd' 'o' 'm' '40' 'z'\n",
            "  '0D' '24' '74' '8D' '99' ' ' 'c' 'o' 'EC' '80' 'd' ' ' 'p' 'r' '6F'\n",
            "  '5F' '52' 'n' 't' ' ' 'm' 'a' '1B' '24' 'c' '7F' 'o' 'u' '1C' ' ' '96'\n",
            "  'a' '94' 'DA' ' ' '86' 't' '17' '77' '81' '09' 'B3']\n",
            " ['75' 't' ' ' 'A6' '63' ' ' 'n' 'o' 't' ' ' 'p' 'r' 'a' 'c' '5D' 'i'\n",
            "  '0F' '31' '71' 'C2' '83' 'o' ' ' 'r' 'FC' '80' 'y' ' ' 's' 'o' '66'\n",
            "  '4C' '5B' 'y' ' ' 'o' 'n' ' ' '04' '34' 'm' '7B' 'e' 't' '1D' 'i' '96'\n",
            "  ' ' '9D' 'D8' 'c' '95' 'y' '13' '62' '8B' '0D' 'AE']\n",
            " ['75' ' ' 's' 'A7' '71' 'l' 'l' ' ' 'n' 'e' 'v' 'e' 'r' ' ' '5B' 'e'\n",
            "  '19' '23' '78' 'C2' '83' 'h' 'e' ' ' 'EA' '8D' 'm' 'e' ' ' 'p' '6B'\n",
            "  '5A' '44' 'w' 'o' 'r' 'd' ' ' '18' '23' ' ' '7B' 'u' 'l' '1B' 'i' '85'\n",
            "  'l' '9D' '96' 'a' '84' 'c' '0C' '63' '8C' '16' 'B3']\n",
            " ['68' 'h' 'e' 'EF' '7F' 'p' 'e' 'n' ' ' 'd' 'e' 's' 'i' 'g' '47' ' '\n",
            "  '1C' '22' '74' '8C' '94' 'i' 'p' 'l' 'FC' 'CC' 'i' 'n' 'c' 'r' '6F'\n",
            "  '48' '44' 'e' 's' ' ' 'c' 'o' '19' '2B' 'i' '72' 'e' 'n' '0C' 'e' 'D5'\n",
            "  'i' '96' '96' 's' '82' 'c' '16' '64' '8B' '16' 'B9']]\n"
          ]
        }
      ]
    }
  ]
}